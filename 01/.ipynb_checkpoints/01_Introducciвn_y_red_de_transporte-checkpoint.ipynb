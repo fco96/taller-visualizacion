{
 "cells": [
  {
   "cell_type": "markdown",
   "metadata": {
    "slideshow": {
     "slide_type": "slide"
    }
   },
   "source": [
    "\n",
    "<img src=\"images/utfsm.png\" alt=\"\" width=\"200px\" align=\"right\"/>\n",
    "\n",
    "<br/>\n",
    "\n",
    "# Taller de Manejo y Visualización de Datos con Python\n",
    "Introducción y motivación al taller<br/>\n",
    "Felipe González P.<br/>\n",
    "felipe.gonzalezp.12@sansano.usm.cl<br/>\n",
    "\n",
    "<br/>\n",
    "Jueves Bloque 7-8<br/>\n",
    "Campus San Joaquin\n",
    "\n",
    "\n"
   ]
  },
  {
   "cell_type": "markdown",
   "metadata": {
    "slideshow": {
     "slide_type": "slide"
    }
   },
   "source": [
    "<div align=\"center\">\n",
    "*Data by itself is uselss. Data is only useful if you apply it* <br/>\n",
    "</div>\n",
    "<div align=\"right\">\n",
    "    — Todd Park.\n",
    "</div>\n",
    "    \n"
   ]
  },
  {
   "cell_type": "markdown",
   "metadata": {
    "slideshow": {
     "slide_type": "slide"
    }
   },
   "source": [
    "## ¿Qué Haremos?"
   ]
  },
  {
   "cell_type": "markdown",
   "metadata": {
    "slideshow": {
     "slide_type": "fragment"
    }
   },
   "source": [
    "Desarrollar habilidades  de análisis y visualizacion de información. Se utilizará Python con el framework Anaconda y las librerías Pandas y Matplotlib."
   ]
  },
  {
   "cell_type": "markdown",
   "metadata": {
    "slideshow": {
     "slide_type": "slide"
    }
   },
   "source": [
    "\n",
    "## Objetivos\n"
   ]
  },
  {
   "cell_type": "markdown",
   "metadata": {
    "slideshow": {
     "slide_type": "fragment"
    }
   },
   "source": [
    "*  Extraer conjuntos de datos ( datasets ) desde la web"
   ]
  },
  {
   "cell_type": "markdown",
   "metadata": {
    "slideshow": {
     "slide_type": "fragment"
    }
   },
   "source": [
    "* Aplicar técnicas de limpieza de datos\n"
   ]
  },
  {
   "cell_type": "markdown",
   "metadata": {
    "slideshow": {
     "slide_type": "fragment"
    }
   },
   "source": [
    "* Aplicar distintas técnicas de visualización de información\n"
   ]
  },
  {
   "cell_type": "markdown",
   "metadata": {
    "slideshow": {
     "slide_type": "fragment"
    }
   },
   "source": [
    "* Conocer aplicaciones de análisis y visualización de información en la industria\n"
   ]
  },
  {
   "cell_type": "markdown",
   "metadata": {
    "slideshow": {
     "slide_type": "fragment"
    }
   },
   "source": [
    "* Presentar de manera oral y escrita información sobre un determinado dataset"
   ]
  },
  {
   "cell_type": "markdown",
   "metadata": {
    "slideshow": {
     "slide_type": "slide"
    }
   },
   "source": [
    "## Evaluación\n",
    " "
   ]
  },
  {
   "cell_type": "markdown",
   "metadata": {
    "slideshow": {
     "slide_type": "fragment"
    }
   },
   "source": [
    "### NF =  30% Asistencia + 5% Informe Preliminar + 65 % Trabajo Final ( 40 % Presentación + 60 % Informe Escrito)</br>\n",
    "*Se requiere un mínimo de 80% de Asistencia para aprobar el curso.*"
   ]
  },
  {
   "cell_type": "markdown",
   "metadata": {
    "slideshow": {
     "slide_type": "slide"
    }
   },
   "source": [
    "## Referencias"
   ]
  },
  {
   "cell_type": "markdown",
   "metadata": {
    "slideshow": {
     "slide_type": "fragment"
    }
   },
   "source": [
    " <div align=\"center\">\n",
    "    <div >\n",
    "        <img src =\"img/libro.png\" height=50% >\n",
    "    </div>\n",
    "    <a href=\"https://github.com/jakevdp/PythonDataScienceHandbook\">Leer Libro Aquí</a>\n",
    "</div>\n"
   ]
  },
  {
   "cell_type": "markdown",
   "metadata": {
    "slideshow": {
     "slide_type": "slide"
    }
   },
   "source": [
    "## Referencias"
   ]
  },
  {
   "cell_type": "markdown",
   "metadata": {
    "slideshow": {
     "slide_type": "fragment"
    }
   },
   "source": [
    " <div align=\"center\">\n",
    "    <div >\n",
    "        <img src =\"img/datagramas.png\" height=50% >\n",
    "    </div>\n",
    "    <a href=\"http://datagramas.cl/cursos/taller-ds/\"> Visitar Sitio Web</a>\n",
    "</div>\n"
   ]
  },
  {
   "cell_type": "markdown",
   "metadata": {
    "slideshow": {
     "slide_type": "slide"
    }
   },
   "source": [
    "## Anaconda\n"
   ]
  },
  {
   "cell_type": "markdown",
   "metadata": {
    "slideshow": {
     "slide_type": "fragment"
    }
   },
   "source": [
    "* Dice ser: *\"The Most Popular Python Data Science Platform\"*\n",
    "* Herramienta freemium que soporta Python y R. \n",
    "* Se utiliza para procesar grandes cantidades de datos, análisis predictivo y tareas de computacionación científica. \n",
    "* Su objetivo es simplificar la administración y despliegue de paquetes\n",
    "\n",
    "<div align=\"center\">\n",
    "    <br/>\n",
    "<a href=\"https://www.anaconda.com/download/\"> Descarga Anaconda Aquí </a> <br/>\n",
    "    **Importante: Se utilizará Python 2.7 para el desarrollo del taller**\n",
    "</div>\n"
   ]
  },
  {
   "cell_type": "markdown",
   "metadata": {
    "slideshow": {
     "slide_type": "slide"
    }
   },
   "source": [
    "# Instalar Anaconda\n",
    "* <a href=\"https://medium.com/@GalarnykMichael/install-python-on-windows-anaconda-c63c7c3d1444\"> Tutorial de Instalación de Anaconda </a>\n",
    "\n",
    "# Ejecutar Anaconda\n",
    "* En linea de comandos escribir: jupyter notebook\n"
   ]
  },
  {
   "cell_type": "markdown",
   "metadata": {
    "slideshow": {
     "slide_type": "slide"
    }
   },
   "source": [
    "<h1 align=\"center\"> ¡COMENCEMOS!</h1>"
   ]
  },
  {
   "cell_type": "markdown",
   "metadata": {
    "slideshow": {
     "slide_type": "slide"
    }
   },
   "source": [
    "# OpenStreetMap y red de transporte\n",
    "\n",
    "Créditos a: Diego Caro y Eduardo Graells-Garrido del Instituto de Data Science, Ingeniería UDD.\n",
    "\n",
    "[OpenStreetMap](https://www.openstreetmap.org/) es una iniciativa colaborativa para crear el mapa editable del mundo. En otras palabras, Wikipedia es a Encyclopædia Britannica lo que OpenStreetMap es a Google Maps.\n",
    "\n",
    "En el ejercicio de hoy revisaremos cómo calcular la ruta más corta entre dos localidades utilizando información disponible en OpenStreetMap.\n",
    "\n",
    "Para procesar los datos de OpenStreetMap utilizaremos el módulo Python [OSMnx](https://github.com/gboeing/osmnx). OSMnx es desarrollado por [Geoff Boeing](https://twitter.com/gboeing). El análisis de la ruta más corta lo realizamos con el módulo [NetworkX](https://networkx.github.io/) \n",
    "\n"
   ]
  },
  {
   "cell_type": "markdown",
   "metadata": {
    "slideshow": {
     "slide_type": "slide"
    }
   },
   "source": [
    "*OSMnx lets you **download spatial geometries and construct, project, visualize, and analyze complex street networks**. It allows you to **automate the collection and computational analysis of street networks** for powerful and consistent research, transportation engineering, and urban design. OSMnx is built on top of NetworkX, matplotlib, and geopandas for rich network analytic capabilities, beautiful and simple visualizations, and fast spatial queries with R-tree.*\n",
    "\n",
    "### Documentación: http://osmnx.readthedocs.io/en/stable/osmnx.html"
   ]
  },
  {
   "cell_type": "markdown",
   "metadata": {
    "slideshow": {
     "slide_type": "slide"
    }
   },
   "source": [
    "Revisa el [artículo](http://geoffboeing.com/publications/osmnx-complex-street-networks/) de OSMnx: \n",
    "* Boeing, G. 2017. “OSMnx: New Methods for Acquiring, Constructing, Analyzing, and Visualizing Complex Street Networks.” Computers, Environment and Urban Systems. 65, 126-139. doi:10.1016/j.compenvurbsys.2017.05.004"
   ]
  },
  {
   "cell_type": "code",
   "execution_count": null,
   "metadata": {
    "slideshow": {
     "slide_type": "slide"
    }
   },
   "outputs": [],
   "source": [
    "import osmnx as ox\n",
    "import networkx as nx\n",
    "import matplotlib.pyplot as plt\n",
    "\n",
    "%config InlineBackend.figure_format = 'retina' # mejor resolución\n",
    "%matplotlib inline\n"
   ]
  },
  {
   "cell_type": "markdown",
   "metadata": {
    "slideshow": {
     "slide_type": "slide"
    }
   },
   "source": [
    "# Descargando Mapa\n",
    "La función [ox.graph_from_place(...)](http://osmnx.readthedocs.io/en/stable/osmnx.html?highlight=graph_from_place#osmnx.core.graph_from_place) descarga el mapa de una zona (comuna, región o país). Por ejemplo, el de la comuna de San Joaquín."
   ]
  },
  {
   "cell_type": "code",
   "execution_count": null,
   "metadata": {
    "slideshow": {
     "slide_type": "fragment"
    }
   },
   "outputs": [],
   "source": [
    "# Descargar mapa de la comuna de santiago\n",
    "#G = ox.graph_from_place('Santiago, Chile', network_type='drive')\n",
    "\n",
    "\n",
    "# Guardarlo para posterior uso :)\n",
    "#ox.save_graphml(G, filename='./scl-network.graphml')\n",
    "\n"
   ]
  },
  {
   "cell_type": "code",
   "execution_count": null,
   "metadata": {
    "slideshow": {
     "slide_type": "fragment"
    }
   },
   "outputs": [],
   "source": [
    "# Cargar un mapa ya guardado\n",
    "G = ox.load_graphml('./scl-network.graphml')\n"
   ]
  },
  {
   "cell_type": "markdown",
   "metadata": {
    "slideshow": {
     "slide_type": "slide"
    }
   },
   "source": [
    "La siguiente figura muestra el mapa de la comuna. Cada nodo (punto) indica alguna esquina o intersección de calles, y cada línea indica una calle."
   ]
  },
  {
   "cell_type": "code",
   "execution_count": null,
   "metadata": {
    "slideshow": {
     "slide_type": "fragment"
    }
   },
   "outputs": [],
   "source": [
    "ox.plot_graph(ox.project_graph(G))\n"
   ]
  },
  {
   "cell_type": "markdown",
   "metadata": {
    "slideshow": {
     "slide_type": "slide"
    }
   },
   "source": [
    "# ¿Cuántos metros cuadrados cubre la comuna de Santiago?"
   ]
  },
  {
   "cell_type": "code",
   "execution_count": null,
   "metadata": {
    "slideshow": {
     "slide_type": "fragment"
    }
   },
   "outputs": [],
   "source": [
    "G_proj = ox.project_graph(G)\n",
    "nodes_proj = ox.graph_to_gdfs(G_proj, edges=False)\n",
    "graph_area_m = nodes_proj.unary_union.convex_hull.area\n",
    "graph_area_m\n",
    "print \"La ciudad de santiago está compuesta por \"+str(graph_area_m)+\" metros cuadrados\"\n",
    "print \"La ciudad de santiago está compuesta por \"+str(graph_area_m/1000)+\" kilómetros cuadrados\"\n"
   ]
  },
  {
   "cell_type": "markdown",
   "metadata": {
    "slideshow": {
     "slide_type": "slide"
    }
   },
   "source": [
    "## Ruta más corta\n",
    "\n",
    "En este ejemplo calcularemos la ruta más corta entre el Palacio Causiño y el Palacio de la Moneda.\n",
    "\n",
    "Lo primero es traducir una dirección en una coordenada latitud/longitud. Este proceso se conoce como [Geocoding](https://en.wikipedia.org/wiki/Geocoding). Podemos utilizar Google Maps como Geocoder:\n",
    "* Palacio Causiño https://www.google.cl/maps/place/Palacio+Cousi%C3%B1o/@-33.4497625,-70.6600015,16z/data=!4m8!1m2!2m1!1sla+moneda!3m4!1s0x9662c508abe3af79:0xa6201fda2ff7103b!8m2!3d-33.452104!4d-70.6568125\n",
    "* Palacio de la Moneda\n",
    "https://www.google.cl/maps/place/La+Moneda+Palace/@-33.4432722,-70.6560104,17z/data=!4m8!1m2!2m1!1spalacio+la+moneda!3m4!1s0x9662c5a6fd47e465:0x5d0fa12b4d88ae82!8m2!3d-33.4429091!4d-70.6538699?hl=en\n"
   ]
  },
  {
   "cell_type": "markdown",
   "metadata": {
    "slideshow": {
     "slide_type": "slide"
    }
   },
   "source": [
    "Definir los puntos de origen y destino"
   ]
  },
  {
   "cell_type": "code",
   "execution_count": null,
   "metadata": {
    "slideshow": {
     "slide_type": "fragment"
    }
   },
   "outputs": [],
   "source": [
    "origin_point = (-33.4497625,-70.6600015) # palacio causiño\n",
    "destination_point = (-33.4432722,-70.6560104) # Palacio de la moneda\n"
   ]
  },
  {
   "cell_type": "markdown",
   "metadata": {
    "slideshow": {
     "slide_type": "slide"
    }
   },
   "source": [
    "Para encontrar la ruta entre dos localidades, es necesario encontrar el nodo (interesección) más cercano al punto de origen y destino. La función ``ox.get_nearest_node(...)`` lo hace por nosotros."
   ]
  },
  {
   "cell_type": "code",
   "execution_count": null,
   "metadata": {
    "slideshow": {
     "slide_type": "fragment"
    }
   },
   "outputs": [],
   "source": [
    "origin_node = ox.get_nearest_node(G, origin_point) \n",
    "destination_node = ox.get_nearest_node(G, destination_point)\n",
    "origin_node, destination_node #Lo que retorna son ID de nodos dentro del mapa"
   ]
  },
  {
   "cell_type": "markdown",
   "metadata": {
    "slideshow": {
     "slide_type": "slide"
    }
   },
   "source": [
    "La distancia más corta se calcula con la función ``nx.shortest_path_length(...)``. La respuesta se entrega en metros."
   ]
  },
  {
   "cell_type": "code",
   "execution_count": null,
   "metadata": {
    "slideshow": {
     "slide_type": "fragment"
    }
   },
   "outputs": [],
   "source": [
    "distance = nx.shortest_path_length(G, origin_node, destination_node, weight='length')\n",
    "distance\n"
   ]
  },
  {
   "cell_type": "code",
   "execution_count": null,
   "metadata": {
    "slideshow": {
     "slide_type": "slide"
    }
   },
   "outputs": [],
   "source": [
    "# Encontrar el camino más corto entre los puntos de origen y destino\n",
    "route = nx.shortest_path(G, origin_node, destination_node, weight='length')\n",
    "str(route)"
   ]
  },
  {
   "cell_type": "code",
   "execution_count": null,
   "metadata": {
    "slideshow": {
     "slide_type": "slide"
    }
   },
   "outputs": [],
   "source": [
    "# plot the route showing origin/destination lat-long points in blue\n",
    "fig, ax = ox.plot_graph_route(G, route, origin_point=origin_point, destination_point=destination_point)"
   ]
  },
  {
   "cell_type": "markdown",
   "metadata": {
    "slideshow": {
     "slide_type": "slide"
    }
   },
   "source": [
    "# Ejercicios\n",
    "\n",
    "1. Calcular la distancia más corta entre tu casa y la universidad.\n",
    "2. ¿Qué otros usos se le pueden dar a estos datos?"
   ]
  },
  {
   "cell_type": "code",
   "execution_count": null,
   "metadata": {
    "slideshow": {
     "slide_type": "slide"
    }
   },
   "outputs": [],
   "source": [
    "#Si se descargar el mapa de toda la región metropolitana\n",
    "#G = ox.graph_from_place('Provincia de Santiago, Chile', network_type='drive')\n"
   ]
  },
  {
   "cell_type": "markdown",
   "metadata": {
    "slideshow": {
     "slide_type": "slide"
    }
   },
   "source": [
    "<h1 align=\"center\"> Más sobre OSMNX </h1>"
   ]
  },
  {
   "cell_type": "code",
   "execution_count": null,
   "metadata": {
    "slideshow": {
     "slide_type": "slide"
    }
   },
   "outputs": [],
   "source": [
    "import osmnx as ox\n",
    "import networkx as nx\n",
    "import matplotlib.cm as cm\n",
    "import matplotlib.colors as colors\n",
    "import pandas as pd\n",
    "%matplotlib inline\n",
    "ox.config(log_console=True, use_cache=True)"
   ]
  },
  {
   "cell_type": "markdown",
   "metadata": {},
   "source": [
    "# Descargar Mapa"
   ]
  },
  {
   "cell_type": "code",
   "execution_count": null,
   "metadata": {
    "slideshow": {
     "slide_type": "slide"
    }
   },
   "outputs": [],
   "source": [
    "# Veamos una ciudad de estados unidos\n",
    "#M = ox.graph_from_place('Piedmont, California', network_type='drive') #walk para ver senderos\n",
    "#M = ox.project_graph(M)\n",
    "#ox.save_graphml(M, filename='./USA-piedmont.graphml')\n",
    "\n"
   ]
  },
  {
   "cell_type": "markdown",
   "metadata": {
    "slideshow": {
     "slide_type": "slide"
    }
   },
   "source": [
    "# Cargar mapa y mostrarlo"
   ]
  },
  {
   "cell_type": "code",
   "execution_count": null,
   "metadata": {
    "slideshow": {
     "slide_type": "fragment"
    }
   },
   "outputs": [],
   "source": [
    "M = ox.load_graphml('./USA-piedmont.graphml')\n",
    "fig, ax = ox.plot_graph(M, bgcolor='k', node_size=30, node_color='#999999', node_edgecolor='none', node_zorder=2,\n",
    "                        edge_color='#555555', edge_linewidth=1.5, edge_alpha=1)"
   ]
  },
  {
   "cell_type": "markdown",
   "metadata": {
    "slideshow": {
     "slide_type": "slide"
    }
   },
   "source": [
    "# Calcular y visualizar nodos centrales"
   ]
  },
  {
   "cell_type": "code",
   "execution_count": null,
   "metadata": {
    "slideshow": {
     "slide_type": "fragment"
    }
   },
   "outputs": [],
   "source": [
    "node_centrality = nx.closeness_centrality(M)\n"
   ]
  },
  {
   "cell_type": "code",
   "execution_count": null,
   "metadata": {
    "slideshow": {
     "slide_type": "fragment"
    }
   },
   "outputs": [],
   "source": [
    "# Mostremoslo\n",
    "df = pd.DataFrame(data=pd.Series(node_centrality).sort_values(), columns=['cc'])\n",
    "df['colors'] = ox.get_colors(n=len(df), cmap='inferno', start=0.2)\n",
    "df = df.reindex(M.nodes())\n",
    "nc = df['colors'].tolist()\n",
    "fig, ax = ox.plot_graph(M, bgcolor='k', node_size=30, node_color=nc, node_edgecolor='none', node_zorder=2,\n",
    "                        edge_color='#555555', edge_linewidth=1.5, edge_alpha=1)"
   ]
  },
  {
   "cell_type": "markdown",
   "metadata": {
    "slideshow": {
     "slide_type": "slide"
    }
   },
   "source": [
    "<h1 align=\"center\"> Revisando el arco del triunfo </h1>"
   ]
  },
  {
   "cell_type": "code",
   "execution_count": null,
   "metadata": {
    "slideshow": {
     "slide_type": "slide"
    }
   },
   "outputs": [],
   "source": [
    "import osmnx as ox\n",
    "from IPython.display import Image\n",
    "\n",
    "# configurar \n",
    "img_folder = 'images'\n",
    "extension = 'png'\n",
    "size = 240"
   ]
  },
  {
   "cell_type": "code",
   "execution_count": null,
   "metadata": {
    "slideshow": {
     "slide_type": "slide"
    }
   },
   "outputs": [],
   "source": [
    "point = (48.873446, 2.294255)\n",
    "dist = 612\n",
    "gdf = ox.buildings_from_point(point=point, distance=dist)\n",
    "gdf_proj = ox.project_gdf(gdf)\n",
    "bbox = ox.bbox_from_point(point=point, distance=dist, project_utm=True)\n",
    "fig, ax = ox.plot_buildings(gdf_proj, bgcolor='#333333', color='w', figsize=(4,4), bbox=bbox,\n",
    "                            save=True, show=False, close=True, filename='paris_bldgs', dpi=90)\n",
    "Image('{}/{}.{}'.format(img_folder, 'paris_bldgs', extension), height=size, width=size)"
   ]
  },
  {
   "cell_type": "markdown",
   "metadata": {
    "slideshow": {
     "slide_type": "fragment"
    }
   },
   "source": [
    "# ¡Que engorroso :( !"
   ]
  },
  {
   "cell_type": "markdown",
   "metadata": {
    "slideshow": {
     "slide_type": "slide"
    }
   },
   "source": [
    "# Ahora con funciones"
   ]
  },
  {
   "cell_type": "code",
   "execution_count": null,
   "metadata": {
    "slideshow": {
     "slide_type": "fragment"
    }
   },
   "outputs": [],
   "source": [
    "# helper funcion to get one-square-mile street networks, building footprints, and plot them\n",
    "def make_plot(place, point, network_type='drive', bldg_color='orange', dpi=40,\n",
    "              dist=805, default_width=4, street_widths=None):\n",
    "    gdf = ox.buildings_from_point(point=point, distance=dist)\n",
    "    gdf_proj = ox.project_gdf(gdf)\n",
    "    fig, ax = ox.plot_figure_ground(point=point, dist=dist, network_type=network_type, default_width=default_width,\n",
    "                                    street_widths=street_widths, save=False, show=False, close=True)\n",
    "    fig, ax = ox.plot_buildings(gdf_proj, fig=fig, ax=ax, color=bldg_color, set_bounds=False,\n",
    "                                save=True, show=False, close=True, filename=place, dpi=dpi)"
   ]
  },
  {
   "cell_type": "code",
   "execution_count": null,
   "metadata": {
    "slideshow": {
     "slide_type": "fragment"
    }
   },
   "outputs": [],
   "source": [
    "point = (48.873446, 2.294255)\n",
    "place = 'paris_bldgs'\n",
    "\n",
    "make_plot(place, point)\n",
    "Image('{}/{}.{}'.format(img_folder, place, extension), height=size, width=size)\n"
   ]
  },
  {
   "cell_type": "markdown",
   "metadata": {
    "slideshow": {
     "slide_type": "slide"
    }
   },
   "source": [
    "# Obtener principales estadísticas\n",
    "\n",
    "### Documentación: https://osmnx.readthedocs.io/en/stable/osmnx.html#module-osmnx.stats"
   ]
  },
  {
   "cell_type": "code",
   "execution_count": null,
   "metadata": {
    "slideshow": {
     "slide_type": "fragment"
    }
   },
   "outputs": [],
   "source": [
    "basic_stats = ox.basic_stats(M)\n",
    "for key in basic_stats:\n",
    "    print key, basic_stats[key]"
   ]
  },
  {
   "cell_type": "markdown",
   "metadata": {
    "slideshow": {
     "slide_type": "slide"
    }
   },
   "source": [
    "# Obtener mayor información\n",
    "### turn on/ turn off análisis topológicos\n"
   ]
  },
  {
   "cell_type": "code",
   "execution_count": null,
   "metadata": {
    "slideshow": {
     "slide_type": "fragment"
    }
   },
   "outputs": [],
   "source": [
    "more_stats = ox.extended_stats(M, ecc=True, bc=True, cc=True) \n",
    "for key in sorted(more_stats.keys()):\n",
    "    print(key)"
   ]
  },
  {
   "cell_type": "markdown",
   "metadata": {
    "slideshow": {
     "slide_type": "slide"
    }
   },
   "source": [
    "<h1 align=\"center\"> ¿Preguntas? </h1>"
   ]
  }
 ],
 "metadata": {
  "anaconda-cloud": {},
  "celltoolbar": "Slideshow",
  "kernelspec": {
   "display_name": "Python 2",
   "language": "python",
   "name": "python2"
  },
  "language_info": {
   "codemirror_mode": {
    "name": "ipython",
    "version": 2
   },
   "file_extension": ".py",
   "mimetype": "text/x-python",
   "name": "python",
   "nbconvert_exporter": "python",
   "pygments_lexer": "ipython2",
   "version": "2.7.14"
  }
 },
 "nbformat": 4,
 "nbformat_minor": 1
}
