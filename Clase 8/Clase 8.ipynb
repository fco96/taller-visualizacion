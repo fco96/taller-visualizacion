{
 "cells": [
  {
   "cell_type": "markdown",
   "metadata": {
    "slideshow": {
     "slide_type": "slide"
    }
   },
   "source": [
    "\n",
    "<img src=\"images/utfsm.png\" alt=\"\" width=\"200px\" align=\"right\"/>\n",
    "\n",
    "<br/>\n",
    "\n",
    "# Taller de Manejo y Visualización de Datos con Python\n",
    "ScatterText<br/>\n",
    "Felipe González P.<br/>\n",
    "felipe.gonzalezp.12@sansano.usm.cl<br/>\n",
    "\n",
    "<br/>\n",
    "Jueves Bloque 7-8<br/>\n",
    "Campus San Joaquín\n",
    "\n",
    "\n"
   ]
  },
  {
   "cell_type": "markdown",
   "metadata": {
    "slideshow": {
     "slide_type": "slide"
    }
   },
   "source": [
    "# spaCy\n",
    "SpaCy es una biblioteca que tiene funciones para todas las tareas clave de NLP necesarias para preparar el texto para un análisis posterior, incluida la tokenización, el reconocimiento de entidades nombradas y los vectores de palabras, entre muchos otros. Su objetivo es proporcionar un proceso simplificado para que llegue al resultado final lo más rápido posible. No usaremos esto directamente, ya que es aprovechado automáticamente por la biblioteca Scattertext, pero dada su importancia en esta área, vale la pena mencionarlo."
   ]
  },
  {
   "cell_type": "markdown",
   "metadata": {
    "slideshow": {
     "slide_type": "slide"
    }
   },
   "source": [
    "# Scattertext\n",
    "\n",
    "Scattertext es un paquete de Python que permite comparar y contrastar cómo se usan las palabras de manera diferente en dos tipos de documentos, produciendo visualizaciones interactivas basadas en Javascript que pueden incorporarse fácilmente en los Jupyter Notebooks. Usando SpaCy y Empath, Scattertext también puede mostrar cómo los estados emocionales y las palabras se relacionan con un tema en particular.\n"
   ]
  },
  {
   "cell_type": "markdown",
   "metadata": {
    "slideshow": {
     "slide_type": "slide"
    }
   },
   "source": [
    "<div align=\"center\"><img src=\"paper.png\"></img></div>\n",
    "\n",
    "<div align=\"center\"><a href=\"https://arxiv.org/abs/1703.00565\">Leer paper aquí</a></div>\n"
   ]
  },
  {
   "cell_type": "markdown",
   "metadata": {
    "slideshow": {
     "slide_type": "slide"
    }
   },
   "source": [
    "<div align=\"center\"><img src=\"guy.png\"></img></div>\n",
    "<div align=\"center\"><a href=\"https://github.com/JasonKessler/Scattertext-PyData\">Ver repositorio aquí</a></div>"
   ]
  },
  {
   "cell_type": "markdown",
   "metadata": {
    "slideshow": {
     "slide_type": "slide"
    }
   },
   "source": [
    "# Instalación \n",
    "```bash\n",
    "conda install -c conda-forge spacy\n",
    "conda install -c conda-forge scattertext\n",
    "python -m spacy download en\n",
    "```"
   ]
  },
  {
   "cell_type": "markdown",
   "metadata": {
    "slideshow": {
     "slide_type": "slide"
    }
   },
   "source": [
    "# Importar librerías "
   ]
  },
  {
   "cell_type": "code",
   "execution_count": 3,
   "metadata": {
    "slideshow": {
     "slide_type": "fragment"
    }
   },
   "outputs": [
    {
     "data": {
      "text/html": [
       "<style>.container { width:98% !important; }</style>"
      ],
      "text/plain": [
       "<IPython.core.display.HTML object>"
      ]
     },
     "metadata": {},
     "output_type": "display_data"
    }
   ],
   "source": [
    "%matplotlib inline\n",
    "import pandas as pd\n",
    "import numpy as np\n",
    "import matplotlib.pyplot as plt\n",
    "# import spacy\n",
    "from datetime import datetime\n",
    "# import scattertext as st\n",
    "from IPython.display import IFrame\n",
    "from IPython.core.display import display, HTML\n",
    "display(HTML(\"<style>.container { width:98% !important; }</style>\"))"
   ]
  },
  {
   "cell_type": "markdown",
   "metadata": {
    "slideshow": {
     "slide_type": "slide"
    }
   },
   "source": [
    "# Leer dataset\n",
    "Dataset obtenido desde <a href=\"https://github.com/PRISMOJI/emojis/blob/master/election_day_tweets_with_emojis_cleaned_VF.csv\"> GitHub</a>"
   ]
  },
  {
   "cell_type": "code",
   "execution_count": 8,
   "metadata": {
    "slideshow": {
     "slide_type": "fragment"
    }
   },
   "outputs": [],
   "source": [
    "data = pd.read_csv(\"election_day_tweets_with_emojis_cleaned_VF.csv\")"
   ]
  },
  {
   "cell_type": "code",
   "execution_count": 9,
   "metadata": {
    "slideshow": {
     "slide_type": "fragment"
    }
   },
   "outputs": [
    {
     "data": {
      "text/html": [
       "<div>\n",
       "<style scoped>\n",
       "    .dataframe tbody tr th:only-of-type {\n",
       "        vertical-align: middle;\n",
       "    }\n",
       "\n",
       "    .dataframe tbody tr th {\n",
       "        vertical-align: top;\n",
       "    }\n",
       "\n",
       "    .dataframe thead th {\n",
       "        text-align: right;\n",
       "    }\n",
       "</style>\n",
       "<table border=\"1\" class=\"dataframe\">\n",
       "  <thead>\n",
       "    <tr style=\"text-align: right;\">\n",
       "      <th></th>\n",
       "      <th>tweetindex</th>\n",
       "      <th>text</th>\n",
       "      <th>ts</th>\n",
       "      <th>hour</th>\n",
       "      <th>min</th>\n",
       "      <th>lang</th>\n",
       "      <th>source.r</th>\n",
       "      <th>clinton</th>\n",
       "      <th>trump</th>\n",
       "      <th>election</th>\n",
       "      <th>vote</th>\n",
       "      <th>emoji.names</th>\n",
       "      <th>url</th>\n",
       "    </tr>\n",
       "  </thead>\n",
       "  <tbody>\n",
       "    <tr>\n",
       "      <th>0</th>\n",
       "      <td>3</td>\n",
       "      <td>Is Election Day over yet</td>\n",
       "      <td>11/8/16 15:57</td>\n",
       "      <td>15</td>\n",
       "      <td>1557</td>\n",
       "      <td>en</td>\n",
       "      <td>IOS</td>\n",
       "      <td>0</td>\n",
       "      <td>0</td>\n",
       "      <td>1</td>\n",
       "      <td>0</td>\n",
       "      <td>expressionless face</td>\n",
       "      <td>twitter.com/________kenzie/status/796094330494...</td>\n",
       "    </tr>\n",
       "    <tr>\n",
       "      <th>1</th>\n",
       "      <td>5</td>\n",
       "      <td>Do people not vote for the Green Party because...</td>\n",
       "      <td>11/8/16 15:22</td>\n",
       "      <td>15</td>\n",
       "      <td>1522</td>\n",
       "      <td>en</td>\n",
       "      <td>WEB</td>\n",
       "      <td>0</td>\n",
       "      <td>0</td>\n",
       "      <td>1</td>\n",
       "      <td>1</td>\n",
       "      <td>thinking face</td>\n",
       "      <td>twitter.com/________owl/status/796085601938313217</td>\n",
       "    </tr>\n",
       "    <tr>\n",
       "      <th>2</th>\n",
       "      <td>13</td>\n",
       "      <td>anyways, I voted</td>\n",
       "      <td>11/8/16 18:09</td>\n",
       "      <td>18</td>\n",
       "      <td>1809</td>\n",
       "      <td>en</td>\n",
       "      <td>IOS</td>\n",
       "      <td>0</td>\n",
       "      <td>0</td>\n",
       "      <td>0</td>\n",
       "      <td>1</td>\n",
       "      <td>hugging face</td>\n",
       "      <td>twitter.com/_______kml/status/796127605422522373</td>\n",
       "    </tr>\n",
       "    <tr>\n",
       "      <th>3</th>\n",
       "      <td>15</td>\n",
       "      <td>Mfs Steady Talking Bout The Election How Many ...</td>\n",
       "      <td>11/8/16 16:23</td>\n",
       "      <td>16</td>\n",
       "      <td>1623</td>\n",
       "      <td>en</td>\n",
       "      <td>IOS</td>\n",
       "      <td>0</td>\n",
       "      <td>0</td>\n",
       "      <td>1</td>\n",
       "      <td>1</td>\n",
       "      <td>face with tears of joy, sleeping face</td>\n",
       "      <td>twitter.com/_______KrewNate/status/79610077736...</td>\n",
       "    </tr>\n",
       "    <tr>\n",
       "      <th>4</th>\n",
       "      <td>18</td>\n",
       "      <td>good thing i can't vote</td>\n",
       "      <td>11/8/16 11:12</td>\n",
       "      <td>11</td>\n",
       "      <td>1112</td>\n",
       "      <td>en</td>\n",
       "      <td>IOS</td>\n",
       "      <td>0</td>\n",
       "      <td>0</td>\n",
       "      <td>0</td>\n",
       "      <td>1</td>\n",
       "      <td>hugging face, Puerto Rico</td>\n",
       "      <td>twitter.com/_______richard/status/796022544570...</td>\n",
       "    </tr>\n",
       "    <tr>\n",
       "      <th>5</th>\n",
       "      <td>21</td>\n",
       "      <td>1 vote won't change anything</td>\n",
       "      <td>11/8/16 23:19</td>\n",
       "      <td>23</td>\n",
       "      <td>2319</td>\n",
       "      <td>en</td>\n",
       "      <td>IOS</td>\n",
       "      <td>0</td>\n",
       "      <td>0</td>\n",
       "      <td>0</td>\n",
       "      <td>1</td>\n",
       "      <td>face with rolling eyes</td>\n",
       "      <td>twitter.com/______aMoya/status/796205457979428864</td>\n",
       "    </tr>\n",
       "    <tr>\n",
       "      <th>6</th>\n",
       "      <td>22</td>\n",
       "      <td>make sure yall get out and VOTE today!!</td>\n",
       "      <td>11/8/16 6:31</td>\n",
       "      <td>6</td>\n",
       "      <td>631</td>\n",
       "      <td>en</td>\n",
       "      <td>OTHER</td>\n",
       "      <td>0</td>\n",
       "      <td>0</td>\n",
       "      <td>0</td>\n",
       "      <td>1</td>\n",
       "      <td>double exclamation mark</td>\n",
       "      <td>twitter.com/______Ashlee/status/79595176059457...</td>\n",
       "    </tr>\n",
       "    <tr>\n",
       "      <th>7</th>\n",
       "      <td>38</td>\n",
       "      <td>This Election Really Show How Fucking Smart Th...</td>\n",
       "      <td>11/8/16 22:15</td>\n",
       "      <td>22</td>\n",
       "      <td>2215</td>\n",
       "      <td>en</td>\n",
       "      <td>IOS</td>\n",
       "      <td>0</td>\n",
       "      <td>0</td>\n",
       "      <td>1</td>\n",
       "      <td>0</td>\n",
       "      <td>expressionless face</td>\n",
       "      <td>twitter.com/______raeeeeee/status/796189489907...</td>\n",
       "    </tr>\n",
       "    <tr>\n",
       "      <th>8</th>\n",
       "      <td>49</td>\n",
       "      <td>This is actually shocking. But then again, hon...</td>\n",
       "      <td>11/8/16 22:32</td>\n",
       "      <td>22</td>\n",
       "      <td>2232</td>\n",
       "      <td>en</td>\n",
       "      <td>IOS</td>\n",
       "      <td>0</td>\n",
       "      <td>0</td>\n",
       "      <td>0</td>\n",
       "      <td>1</td>\n",
       "      <td>face with rolling eyes</td>\n",
       "      <td>twitter.com/_____armani/status/796193747176398849</td>\n",
       "    </tr>\n",
       "    <tr>\n",
       "      <th>9</th>\n",
       "      <td>53</td>\n",
       "      <td>My snapchat story/rant about this election is ...</td>\n",
       "      <td>11/8/16 13:32</td>\n",
       "      <td>13</td>\n",
       "      <td>1332</td>\n",
       "      <td>en</td>\n",
       "      <td>IOS</td>\n",
       "      <td>0</td>\n",
       "      <td>0</td>\n",
       "      <td>1</td>\n",
       "      <td>0</td>\n",
       "      <td>face with tears of joy, United States</td>\n",
       "      <td>twitter.com/_____bat/status/796057835461283840</td>\n",
       "    </tr>\n",
       "  </tbody>\n",
       "</table>\n",
       "</div>"
      ],
      "text/plain": [
       "   tweetindex                                               text  \\\n",
       "0           3                          Is Election Day over yet    \n",
       "1           5  Do people not vote for the Green Party because...   \n",
       "2          13                                  anyways, I voted    \n",
       "3          15  Mfs Steady Talking Bout The Election How Many ...   \n",
       "4          18                           good thing i can't vote    \n",
       "5          21                      1 vote won't change anything    \n",
       "6          22            make sure yall get out and VOTE today!!   \n",
       "7          38  This Election Really Show How Fucking Smart Th...   \n",
       "8          49  This is actually shocking. But then again, hon...   \n",
       "9          53  My snapchat story/rant about this election is ...   \n",
       "\n",
       "              ts  hour   min lang source.r  clinton  trump  election  vote  \\\n",
       "0  11/8/16 15:57    15  1557   en      IOS        0      0         1     0   \n",
       "1  11/8/16 15:22    15  1522   en      WEB        0      0         1     1   \n",
       "2  11/8/16 18:09    18  1809   en      IOS        0      0         0     1   \n",
       "3  11/8/16 16:23    16  1623   en      IOS        0      0         1     1   \n",
       "4  11/8/16 11:12    11  1112   en      IOS        0      0         0     1   \n",
       "5  11/8/16 23:19    23  2319   en      IOS        0      0         0     1   \n",
       "6   11/8/16 6:31     6   631   en    OTHER        0      0         0     1   \n",
       "7  11/8/16 22:15    22  2215   en      IOS        0      0         1     0   \n",
       "8  11/8/16 22:32    22  2232   en      IOS        0      0         0     1   \n",
       "9  11/8/16 13:32    13  1332   en      IOS        0      0         1     0   \n",
       "\n",
       "                             emoji.names  \\\n",
       "0                    expressionless face   \n",
       "1                          thinking face   \n",
       "2                           hugging face   \n",
       "3  face with tears of joy, sleeping face   \n",
       "4              hugging face, Puerto Rico   \n",
       "5                 face with rolling eyes   \n",
       "6                double exclamation mark   \n",
       "7                    expressionless face   \n",
       "8                 face with rolling eyes   \n",
       "9  face with tears of joy, United States   \n",
       "\n",
       "                                                 url  \n",
       "0  twitter.com/________kenzie/status/796094330494...  \n",
       "1  twitter.com/________owl/status/796085601938313217  \n",
       "2   twitter.com/_______kml/status/796127605422522373  \n",
       "3  twitter.com/_______KrewNate/status/79610077736...  \n",
       "4  twitter.com/_______richard/status/796022544570...  \n",
       "5  twitter.com/______aMoya/status/796205457979428864  \n",
       "6  twitter.com/______Ashlee/status/79595176059457...  \n",
       "7  twitter.com/______raeeeeee/status/796189489907...  \n",
       "8  twitter.com/_____armani/status/796193747176398849  \n",
       "9     twitter.com/_____bat/status/796057835461283840  "
      ]
     },
     "execution_count": 9,
     "metadata": {},
     "output_type": "execute_result"
    }
   ],
   "source": [
    "data.head(10)"
   ]
  },
  {
   "cell_type": "markdown",
   "metadata": {
    "slideshow": {
     "slide_type": "slide"
    }
   },
   "source": [
    "# Analizar tweets por hora "
   ]
  },
  {
   "cell_type": "code",
   "execution_count": 49,
   "metadata": {
    "slideshow": {
     "slide_type": "fragment"
    }
   },
   "outputs": [],
   "source": [
    "import time\n",
    "def transform_datetime(x):\n",
    "    try:\n",
    "        return time.strftime('%y-%m-%d %H:00', time.strptime(x,'%m/%d/%y %H:%M'))\n",
    "    except:\n",
    "        pass\n",
    "data['created_at'] = data.ts.apply(transform_datetime)\n"
   ]
  },
  {
   "cell_type": "code",
   "execution_count": 50,
   "metadata": {
    "slideshow": {
     "slide_type": "fragment"
    }
   },
   "outputs": [
    {
     "data": {
      "text/html": [
       "<div>\n",
       "<style scoped>\n",
       "    .dataframe tbody tr th:only-of-type {\n",
       "        vertical-align: middle;\n",
       "    }\n",
       "\n",
       "    .dataframe tbody tr th {\n",
       "        vertical-align: top;\n",
       "    }\n",
       "\n",
       "    .dataframe thead th {\n",
       "        text-align: right;\n",
       "    }\n",
       "</style>\n",
       "<table border=\"1\" class=\"dataframe\">\n",
       "  <thead>\n",
       "    <tr style=\"text-align: right;\">\n",
       "      <th></th>\n",
       "      <th>tweetindex</th>\n",
       "      <th>text</th>\n",
       "      <th>ts</th>\n",
       "      <th>hour</th>\n",
       "      <th>min</th>\n",
       "      <th>lang</th>\n",
       "      <th>source.r</th>\n",
       "      <th>clinton</th>\n",
       "      <th>trump</th>\n",
       "      <th>election</th>\n",
       "      <th>vote</th>\n",
       "      <th>emoji.names</th>\n",
       "      <th>url</th>\n",
       "      <th>created_at</th>\n",
       "    </tr>\n",
       "  </thead>\n",
       "  <tbody>\n",
       "    <tr>\n",
       "      <th>0</th>\n",
       "      <td>3</td>\n",
       "      <td>Is Election Day over yet</td>\n",
       "      <td>11/8/16 15:57</td>\n",
       "      <td>15</td>\n",
       "      <td>1557</td>\n",
       "      <td>en</td>\n",
       "      <td>IOS</td>\n",
       "      <td>0</td>\n",
       "      <td>0</td>\n",
       "      <td>1</td>\n",
       "      <td>0</td>\n",
       "      <td>expressionless face</td>\n",
       "      <td>twitter.com/________kenzie/status/796094330494...</td>\n",
       "      <td>16-11-08 15:00</td>\n",
       "    </tr>\n",
       "    <tr>\n",
       "      <th>1</th>\n",
       "      <td>5</td>\n",
       "      <td>Do people not vote for the Green Party because...</td>\n",
       "      <td>11/8/16 15:22</td>\n",
       "      <td>15</td>\n",
       "      <td>1522</td>\n",
       "      <td>en</td>\n",
       "      <td>WEB</td>\n",
       "      <td>0</td>\n",
       "      <td>0</td>\n",
       "      <td>1</td>\n",
       "      <td>1</td>\n",
       "      <td>thinking face</td>\n",
       "      <td>twitter.com/________owl/status/796085601938313217</td>\n",
       "      <td>16-11-08 15:00</td>\n",
       "    </tr>\n",
       "    <tr>\n",
       "      <th>2</th>\n",
       "      <td>13</td>\n",
       "      <td>anyways, I voted</td>\n",
       "      <td>11/8/16 18:09</td>\n",
       "      <td>18</td>\n",
       "      <td>1809</td>\n",
       "      <td>en</td>\n",
       "      <td>IOS</td>\n",
       "      <td>0</td>\n",
       "      <td>0</td>\n",
       "      <td>0</td>\n",
       "      <td>1</td>\n",
       "      <td>hugging face</td>\n",
       "      <td>twitter.com/_______kml/status/796127605422522373</td>\n",
       "      <td>16-11-08 18:00</td>\n",
       "    </tr>\n",
       "    <tr>\n",
       "      <th>3</th>\n",
       "      <td>15</td>\n",
       "      <td>Mfs Steady Talking Bout The Election How Many ...</td>\n",
       "      <td>11/8/16 16:23</td>\n",
       "      <td>16</td>\n",
       "      <td>1623</td>\n",
       "      <td>en</td>\n",
       "      <td>IOS</td>\n",
       "      <td>0</td>\n",
       "      <td>0</td>\n",
       "      <td>1</td>\n",
       "      <td>1</td>\n",
       "      <td>face with tears of joy, sleeping face</td>\n",
       "      <td>twitter.com/_______KrewNate/status/79610077736...</td>\n",
       "      <td>16-11-08 16:00</td>\n",
       "    </tr>\n",
       "    <tr>\n",
       "      <th>4</th>\n",
       "      <td>18</td>\n",
       "      <td>good thing i can't vote</td>\n",
       "      <td>11/8/16 11:12</td>\n",
       "      <td>11</td>\n",
       "      <td>1112</td>\n",
       "      <td>en</td>\n",
       "      <td>IOS</td>\n",
       "      <td>0</td>\n",
       "      <td>0</td>\n",
       "      <td>0</td>\n",
       "      <td>1</td>\n",
       "      <td>hugging face, Puerto Rico</td>\n",
       "      <td>twitter.com/_______richard/status/796022544570...</td>\n",
       "      <td>16-11-08 11:00</td>\n",
       "    </tr>\n",
       "  </tbody>\n",
       "</table>\n",
       "</div>"
      ],
      "text/plain": [
       "   tweetindex                                               text  \\\n",
       "0           3                          Is Election Day over yet    \n",
       "1           5  Do people not vote for the Green Party because...   \n",
       "2          13                                  anyways, I voted    \n",
       "3          15  Mfs Steady Talking Bout The Election How Many ...   \n",
       "4          18                           good thing i can't vote    \n",
       "\n",
       "              ts  hour   min lang source.r  clinton  trump  election  vote  \\\n",
       "0  11/8/16 15:57    15  1557   en      IOS        0      0         1     0   \n",
       "1  11/8/16 15:22    15  1522   en      WEB        0      0         1     1   \n",
       "2  11/8/16 18:09    18  1809   en      IOS        0      0         0     1   \n",
       "3  11/8/16 16:23    16  1623   en      IOS        0      0         1     1   \n",
       "4  11/8/16 11:12    11  1112   en      IOS        0      0         0     1   \n",
       "\n",
       "                             emoji.names  \\\n",
       "0                    expressionless face   \n",
       "1                          thinking face   \n",
       "2                           hugging face   \n",
       "3  face with tears of joy, sleeping face   \n",
       "4              hugging face, Puerto Rico   \n",
       "\n",
       "                                                 url      created_at  \n",
       "0  twitter.com/________kenzie/status/796094330494...  16-11-08 15:00  \n",
       "1  twitter.com/________owl/status/796085601938313217  16-11-08 15:00  \n",
       "2   twitter.com/_______kml/status/796127605422522373  16-11-08 18:00  \n",
       "3  twitter.com/_______KrewNate/status/79610077736...  16-11-08 16:00  \n",
       "4  twitter.com/_______richard/status/796022544570...  16-11-08 11:00  "
      ]
     },
     "execution_count": 50,
     "metadata": {},
     "output_type": "execute_result"
    }
   ],
   "source": [
    "data.head()"
   ]
  },
  {
   "cell_type": "markdown",
   "metadata": {
    "slideshow": {
     "slide_type": "slide"
    }
   },
   "source": [
    "# Cantidad del dataset "
   ]
  },
  {
   "cell_type": "code",
   "execution_count": 51,
   "metadata": {
    "slideshow": {
     "slide_type": "fragment"
    }
   },
   "outputs": [
    {
     "data": {
      "text/plain": [
       "175655"
      ]
     },
     "execution_count": 51,
     "metadata": {},
     "output_type": "execute_result"
    }
   ],
   "source": [
    "len(data)"
   ]
  },
  {
   "cell_type": "markdown",
   "metadata": {
    "slideshow": {
     "slide_type": "fragment"
    }
   },
   "source": [
    "# Categorizemos los tweets"
   ]
  },
  {
   "cell_type": "code",
   "execution_count": 52,
   "metadata": {
    "slideshow": {
     "slide_type": "fragment"
    }
   },
   "outputs": [],
   "source": [
    "data_clinton = data[data['clinton']==1]\n",
    "data_trump = data[data['trump']==1]"
   ]
  },
  {
   "cell_type": "markdown",
   "metadata": {
    "slideshow": {
     "slide_type": "slide"
    }
   },
   "source": [
    "¿Cuántos escriben tweets sobre Clinton? ¿Cuántos sobre Trump?"
   ]
  },
  {
   "cell_type": "markdown",
   "metadata": {
    "slideshow": {
     "slide_type": "slide"
    }
   },
   "source": [
    "# Veamos los tweets en el tiempo"
   ]
  },
  {
   "cell_type": "code",
   "execution_count": 53,
   "metadata": {
    "slideshow": {
     "slide_type": "fragment"
    }
   },
   "outputs": [],
   "source": [
    "tweets_over_time_clinton = data_clinton.groupby('created_at').size()\n",
    "tweets_over_time_trump = data_trump.groupby('created_at').size()\n"
   ]
  },
  {
   "cell_type": "code",
   "execution_count": 54,
   "metadata": {
    "slideshow": {
     "slide_type": "fragment"
    }
   },
   "outputs": [
    {
     "data": {
      "text/plain": [
       "created_at\n",
       "16-11-08 01:00     421\n",
       "16-11-08 02:00     758\n",
       "16-11-08 03:00     743\n",
       "16-11-08 04:00     545\n",
       "16-11-08 05:00     631\n",
       "16-11-08 06:00     861\n",
       "16-11-08 07:00    1349\n",
       "16-11-08 08:00    1743\n",
       "16-11-08 09:00    1827\n",
       "16-11-08 10:00    1799\n",
       "16-11-08 11:00    1736\n",
       "16-11-08 12:00    1608\n",
       "16-11-08 13:00    1472\n",
       "16-11-08 14:00    1438\n",
       "16-11-08 15:00    1467\n",
       "16-11-08 16:00    1064\n",
       "16-11-08 17:00    1079\n",
       "16-11-08 18:00    1121\n",
       "16-11-08 19:00    1311\n",
       "16-11-08 20:00    1500\n",
       "16-11-08 21:00    1166\n",
       "16-11-08 22:00    1021\n",
       "16-11-08 23:00     898\n",
       "16-11-09 00:00     685\n",
       "16-11-09 01:00     735\n",
       "16-11-09 02:00    1016\n",
       "16-11-09 03:00     466\n",
       "dtype: int64"
      ]
     },
     "execution_count": 54,
     "metadata": {},
     "output_type": "execute_result"
    }
   ],
   "source": [
    "tweets_over_time_clinton"
   ]
  },
  {
   "cell_type": "markdown",
   "metadata": {
    "slideshow": {
     "slide_type": "slide"
    }
   },
   "source": [
    "# Grafiquemos "
   ]
  },
  {
   "cell_type": "code",
   "execution_count": 58,
   "metadata": {},
   "outputs": [
    {
     "data": {
      "image/png": "[encoded data removed]",
      "text/plain": [
       "<Figure size 1080x432 with 1 Axes>"
      ]
     },
     "metadata": {},
     "output_type": "display_data"
    }
   ],
   "source": [
    "plt.figure(figsize=(15,6))\n",
    "plt.title(\"Tweets en el tiempo en el día de elecciones según candidato\", fontsize=20)\n",
    "\n",
    "plt.plot(tweets_over_time_clinton, label=\"clinton\")\n",
    "plt.plot(tweets_over_time_trump, label=\"trump\")\n",
    "\n",
    "\n",
    "plt.ylabel('Número de tweets', fontsize=16)\n",
    "plt.xlabel(\"Año-Mes-Día Hora \", fontsize=16)\n",
    "plt.legend()\n",
    "plt.xticks(rotation=70)\n",
    "plt.grid(True)\n",
    "plt.show()"
   ]
  },
  {
   "cell_type": "markdown",
   "metadata": {
    "slideshow": {
     "slide_type": "slide"
    }
   },
   "source": [
    "<div align=\"center\"><h1> Usemos ScatterText </h1></div>"
   ]
  },
  {
   "cell_type": "markdown",
   "metadata": {
    "slideshow": {
     "slide_type": "slide"
    }
   },
   "source": [
    "## Cargaremos un modelo, este contiene vocabulario, entidades y sintáxis propia del idioma. No lo usaremos directamente"
   ]
  },
  {
   "cell_type": "code",
   "execution_count": 59,
   "metadata": {
    "slideshow": {
     "slide_type": "fragment"
    }
   },
   "outputs": [],
   "source": [
    "nlp = spacy.load('en')"
   ]
  },
  {
   "cell_type": "markdown",
   "metadata": {
    "slideshow": {
     "slide_type": "slide"
    }
   },
   "source": [
    "## Crearemos una nueva columna en los dos dataframe creados"
   ]
  },
  {
   "cell_type": "code",
   "execution_count": 61,
   "metadata": {
    "slideshow": {
     "slide_type": "fragment"
    }
   },
   "outputs": [],
   "source": [
    "data_clinton['category'] = 'clinton'\n",
    "data_trump['category'] = 'trump'\n"
   ]
  },
  {
   "cell_type": "markdown",
   "metadata": {
    "slideshow": {
     "slide_type": "slide"
    }
   },
   "source": [
    "## Uniremos todo"
   ]
  },
  {
   "cell_type": "code",
   "execution_count": 62,
   "metadata": {
    "slideshow": {
     "slide_type": "fragment"
    }
   },
   "outputs": [],
   "source": [
    "data_night_election = pd.concat([data_clinton[['category','url','text']],  data_trump[['category','url','text']]])\n"
   ]
  },
  {
   "cell_type": "markdown",
   "metadata": {
    "slideshow": {
     "slide_type": "slide"
    }
   },
   "source": [
    "# Alerta\n",
    "\n",
    "Si correrá los siguientes códigos, debe tener cuenta que tomará tiempo obtener el resultado. Es recomendable hacer un sample. "
   ]
  },
  {
   "cell_type": "markdown",
   "metadata": {
    "slideshow": {
     "slide_type": "slide"
    }
   },
   "source": [
    "# Corpus \n",
    "\n",
    "Un corpus lingüístico es un conjunto amplio y estructurado de ejemplos reales de uso de la lengua. Estos ejemplos pueden ser textos, o muestras orales\n"
   ]
  },
  {
   "cell_type": "markdown",
   "metadata": {
    "slideshow": {
     "slide_type": "slide"
    }
   },
   "source": [
    "# Crearemos un corpus a partir de un dataframe\n"
   ]
  },
  {
   "cell_type": "code",
   "execution_count": 35,
   "metadata": {
    "slideshow": {
     "slide_type": "fragment"
    }
   },
   "outputs": [
    {
     "name": "stdout",
     "output_type": "stream",
     "text": [
      "Duration: 0:17:39.146936\n"
     ]
    }
   ],
   "source": [
    "start_time = datetime.now() \n",
    "corpus_data_night_election = st.CorpusFromPandas(data_night_election,category_col='category', text_col='text', nlp=nlp).build() \n",
    "end_time = datetime.now()\n",
    "print('Duration: {}'.format(end_time - start_time))\n"
   ]
  },
  {
   "cell_type": "markdown",
   "metadata": {
    "slideshow": {
     "slide_type": "slide"
    }
   },
   "source": [
    "# Veamos términos frecuentes en la noche de elecciones"
   ]
  },
  {
   "cell_type": "code",
   "execution_count": 40,
   "metadata": {
    "slideshow": {
     "slide_type": "fragment"
    }
   },
   "outputs": [
    {
     "data": {
      "text/plain": [
       "12907510"
      ]
     },
     "execution_count": 40,
     "metadata": {},
     "output_type": "execute_result"
    }
   ],
   "source": [
    "mininum = 500\n",
    "html_group_4_english = st.produce_scattertext_explorer(corpus_data_night_election, category='clinton',         \n",
    "                                       category_name='Clinton',          \n",
    "                                       not_category_name='Trump',\n",
    "                                       minimum_term_frequency = mininum,\n",
    "                                       width_in_pixels=1000,          \n",
    "                                       metadata=data_night_election['url'])\n",
    "open(\"Night_elections.html\", 'wb').write(html_group_4_english.encode('utf-8'))\n"
   ]
  },
  {
   "cell_type": "markdown",
   "metadata": {
    "slideshow": {
     "slide_type": "slide"
    }
   },
   "source": [
    "# Hagamos Topic Modeling"
   ]
  },
  {
   "cell_type": "code",
   "execution_count": 42,
   "metadata": {
    "slideshow": {
     "slide_type": "fragment"
    }
   },
   "outputs": [],
   "source": [
    "feat_builder = st.FeatsFromOnlyEmpath()\n",
    "empath_corpush = st.CorpusFromParsedDocuments(data_night_election,\n",
    "                                             category_col='category',\n",
    "                                             feats_from_spacy_doc=feat_builder,\n",
    "                                             parsed_col='text').build()\n"
   ]
  },
  {
   "cell_type": "code",
   "execution_count": 46,
   "metadata": {
    "slideshow": {
     "slide_type": "fragment"
    }
   },
   "outputs": [
    {
     "data": {
      "text/plain": [
       "16687660"
      ]
     },
     "execution_count": 46,
     "metadata": {},
     "output_type": "execute_result"
    }
   ],
   "source": [
    "html = st.produce_scattertext_explorer(empath_corpush,\n",
    "...                                        category='clinton',\n",
    "...                                        category_name='Clinton',\n",
    "...                                        not_category_name='Trump',\n",
    "...                                        width_in_pixels=1000,\n",
    "...                                        metadata=data_night_election['url'],\n",
    "...                                        use_non_text_features=True,\n",
    "...                                        use_full_doc=True,\n",
    "...                                        topic_model_term_lists=feat_builder.get_top_model_term_lists())\n",
    "open(\"Topic-Night-Elections.html\", 'wb').write(html.encode('utf-8'))"
   ]
  }
 ],
 "metadata": {
  "celltoolbar": "Slideshow",
  "kernelspec": {
   "display_name": "Python 3",
   "language": "python",
   "name": "python3"
  },
  "language_info": {
   "codemirror_mode": {
    "name": "ipython",
    "version": 3
   },
   "file_extension": ".py",
   "mimetype": "text/x-python",
   "name": "python",
   "nbconvert_exporter": "python",
   "pygments_lexer": "ipython3",
   "version": "3.7.0"
  }
 },
 "nbformat": 4,
 "nbformat_minor": 2
}
